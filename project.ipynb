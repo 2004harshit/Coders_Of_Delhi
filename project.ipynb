{
 "cells": [
  {
   "cell_type": "markdown",
   "id": "6a039738",
   "metadata": {},
   "source": [
    "### Introduction<br>\n",
    "Congratulations! You have just been hired as a __Data Scientist Intern__ at ___CodeBook – The Social Media for Coders__. This Delhi-based company is offering you a __₹10 LPA job__ if you successfully complete this __1-month internship__. But before you get there, you must prove your skills using __only Python__—no pandas, NumPy, or fancy libraries!<br>\n",
    "\n",
    "Your manager Puneet Kumar has assigned you your __first task__: analyzing a data dump of CodeBook users using pure Python. Your job is to __load and explore__ the data to understand its structure.\n",
    "\n"
   ]
  },
  {
   "cell_type": "markdown",
   "id": "b215cdcc",
   "metadata": {},
   "source": [
    "### __Task 1: Load the User Data__<br>\n",
    "Your manager has given you a dataset containing information about CodeBook users, their connections (friends), and the pages they have liked.<br>\n",
    "<br>\n",
    "This is how the data will look (in JSON format):"
   ]
  },
  {
   "cell_type": "code",
   "execution_count": 1,
   "id": "b833797d",
   "metadata": {},
   "outputs": [],
   "source": [
    "import json"
   ]
  },
  {
   "cell_type": "code",
   "execution_count": 5,
   "id": "cc46a01b",
   "metadata": {},
   "outputs": [
    {
     "name": "stdout",
     "output_type": "stream",
     "text": [
      "Error : File Not Found!\n"
     ]
    }
   ],
   "source": [
    "def load_data(filename):\n",
    "    content = {}\n",
    "    try:\n",
    "        with open(filename , 'r') as fd:\n",
    "            content  = json.load(fd)\n",
    "            print(\"Data is Successfully Loaded!\")\n",
    "    except:\n",
    "        print(\"Error : File Not Found!\")\n",
    "    return content\n",
    "\n",
    "filename = 'data.json'\n",
    "content = load_data(filename)"
   ]
  }
 ],
 "metadata": {
  "kernelspec": {
   "display_name": "Python 3",
   "language": "python",
   "name": "python3"
  },
  "language_info": {
   "codemirror_mode": {
    "name": "ipython",
    "version": 3
   },
   "file_extension": ".py",
   "mimetype": "text/x-python",
   "name": "python",
   "nbconvert_exporter": "python",
   "pygments_lexer": "ipython3",
   "version": "3.12.4"
  }
 },
 "nbformat": 4,
 "nbformat_minor": 5
}
